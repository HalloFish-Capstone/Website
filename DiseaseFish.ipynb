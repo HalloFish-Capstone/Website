{
  "cells": [
    {
      "cell_type": "markdown",
      "metadata": {
        "id": "zXzEjdZ3C9jI"
      },
      "source": [
        "**EKSTRAK DATASET**"
      ]
    },
    {
      "cell_type": "code",
      "execution_count": 66,
      "metadata": {
        "id": "7zRTTm4RHKvv"
      },
      "outputs": [],
      "source": [
        "from google.colab import drive\n",
        "import os\n",
        "import zipfile\n",
        "\n",
        "# Tentukan path file zip\n",
        "zip_path = '/content/DATASET.zip'  # Ganti dengan path file zip yang sesuai\n",
        "\n",
        "# Ekstrak file zip\n",
        "with zipfile.ZipFile(zip_path, 'r') as zip_ref:\n",
        "    zip_ref.extractall('/content/')  # Ganti dengan folder tujuan ekstraksi yang diinginkan\n",
        "\n",
        "# Menghubungkan ke Google Drive\n",
        "#drive.mount('/content/drive')\n",
        "\n",
        "# Menentukan path lengkap ke dataset di Google Drive\n",
        "#dataset_dir = '/content/drive/MyDrive/DATASET'\n",
        "\n"
      ]
    },
    {
      "cell_type": "markdown",
      "metadata": {
        "id": "PcytCydCD_Od"
      },
      "source": [
        "**CEK FOLDER**"
      ]
    },
    {
      "cell_type": "code",
      "execution_count": 67,
      "metadata": {
        "colab": {
          "base_uri": "https://localhost:8080/"
        },
        "id": "Z2fWWN-HEIKh",
        "outputId": "132c52f2-ff9c-4a4c-c993-cad2c97c27cf"
      },
      "outputs": [
        {
          "name": "stdout",
          "output_type": "stream",
          "text": [
            "1\t     download.jpg\t\t\t\t       sample_data\n",
            "DATASET      ikan-nila-berkhasiat-bikin-awet-muda-220728i.jpg\n",
            "DATASET.zip  path\n"
          ]
        }
      ],
      "source": [
        "!ls \"/content/\"\n",
        "# "
      ]
    },
    {
      "cell_type": "markdown",
      "metadata": {
        "id": "_x8L1i9JFUxx"
      },
      "source": [
        "**SET DIRECTORY**"
      ]
    },
    {
      "cell_type": "code",
      "execution_count": 68,
      "metadata": {
        "id": "YSV0B1d-LTFP"
      },
      "outputs": [],
      "source": [
        "import os\n",
        "base_dir = \"/content/DATASET\"\n",
        "\n",
        "\n",
        "train_dir = os.path.join(base_dir, 'TRAIN')\n",
        "validation_dir = os.path.join(base_dir, 'VALIDATION')\n",
        "\n",
        "\n",
        "#TRAIN\n",
        "train_whitespot_dir = os.path.join(train_dir, 'WHITESPOT')\n",
        "#train_aeromonas_dir = os.path.join(train_dir, 'AEROMONAS')\n",
        "train_backterialfin_dir = os.path.join(train_dir, 'BACTERIALFIN')\n",
        "train_redspot_dir = os.path.join(train_dir, 'REDSPOT')\n",
        "train_healthy_dir = os.path.join(train_dir, 'HEALTHY')\n",
        "\n",
        "#VALIDATION\n",
        "validation_whitespot_dir = os.path.join(train_dir, 'WHITESPOT')\n",
        "#validation_aeromonas_dir = os.path.join(train_dir, 'AEROMONAS')\n",
        "validation_backterialfin_dir = os.path.join(train_dir, 'BACTERIALFIN')\n",
        "validation_redspot_dir = os.path.join(train_dir, 'REDSPOT')\n",
        "validation_healthy_dir = os.path.join(train_dir, 'HEALTHY')\n",
        "\n",
        "#TEST\n",
        "#test_dir = os.path.join(base_dir, 'TEST')\n"
      ]
    },
    {
      "cell_type": "code",
      "execution_count": 69,
      "metadata": {
        "colab": {
          "base_uri": "https://localhost:8080/"
        },
        "id": "fdxBfYnmLmdb",
        "outputId": "32f2966a-6126-4992-c622-2ab297e45ea2"
      },
      "outputs": [
        {
          "name": "stdout",
          "output_type": "stream",
          "text": [
            "Contents of base directory:\n",
            "['TRAIN', 'VALIDATION', 'TEST']\n"
          ]
        }
      ],
      "source": [
        "print(\"Contents of base directory:\")\n",
        "print(os.listdir(base_dir))"
      ]
    },
    {
      "cell_type": "markdown",
      "metadata": {
        "id": "QRjcxk0xIfGe"
      },
      "source": [
        "**CEK ISI DATASET**"
      ]
    },
    {
      "cell_type": "code",
      "execution_count": 70,
      "metadata": {
        "colab": {
          "base_uri": "https://localhost:8080/"
        },
        "id": "9XoMDgp7HYMr",
        "outputId": "cecab33a-46f7-4261-b3de-49673ac29555"
      },
      "outputs": [
        {
          "name": "stdout",
          "output_type": "stream",
          "text": [
            "['images (5).jpg', '2.JPG', 'images (6).jpg', 'download (10).jpg', 'images (8).jpg']\n",
            "['A.jfif', '4.JPG', 'motile-aeromonas-septicemia.JPG', '1.JPG']\n",
            "total training WHITESPOT images: 32\n",
            "total training BACTERIALFIN images: 4\n",
            "total training REDSPOT images: 23\n",
            "total training HEALTHY images: 16\n"
          ]
        }
      ],
      "source": [
        "train_whitespot_fnames = os.listdir(train_whitespot_dir)\n",
        "print(train_whitespot_fnames[:5])\n",
        "\n",
        "#train_aeromonas_fnames = os.listdir(train_aeromonas_dir)\n",
        "#print(train_aeromonas_fnames[:5])\n",
        "\n",
        "train_bacterial_fnames = os.listdir(train_backterialfin_dir)\n",
        "print(train_bacterial_fnames[:5])\n",
        "\n",
        "#==========================================\n",
        "\n",
        "print('total training WHITESPOT images:', len(os.listdir(train_whitespot_dir)))\n",
        "#print('total training AEROMONAS images:', len(os.listdir(train_aeromonas_dir)))\n",
        "print('total training BACTERIALFIN images:', len(os.listdir(train_backterialfin_dir)))\n",
        "print('total training REDSPOT images:', len(os.listdir(train_redspot_dir)))\n",
        "print('total training HEALTHY images:', len(os.listdir(train_healthy_dir)))"
      ]
    },
    {
      "cell_type": "markdown",
      "metadata": {
        "id": "WcZZstRNUmWG"
      },
      "source": [
        "**DATA AUGMANTATION**"
      ]
    },
    {
      "cell_type": "code",
      "execution_count": 119,
      "metadata": {
        "colab": {
          "base_uri": "https://localhost:8080/"
        },
        "id": "uq9YRr479G_A",
        "outputId": "54c13670-e6ed-46b0-a734-b615f830d202"
      },
      "outputs": [
        {
          "name": "stdout",
          "output_type": "stream",
          "text": [
            "Found 69 images belonging to 4 classes.\n"
          ]
        }
      ],
      "source": [
        "from tensorflow.keras.preprocessing.image import ImageDataGenerator\n",
        "\n",
        "# Membuat objek ImageDataGenerator dengan konfigurasi augmentasi gambar\n",
        "train_datagen = ImageDataGenerator(\n",
        "    rescale=1./255,  # Skala piksel ke range 0-1\n",
        "    rotation_range=10,  # Rotasi gambar dalam range 20 derajat\n",
        "    width_shift_range=0.1,  # Geser gambar secara horizontal\n",
        "    height_shift_range=0.1,  # Geser gambar secara vertikal\n",
        "    shear_range=0.1,  # Menggeser gambar secara shear\n",
        "    zoom_range=0.1,  # Perbesar/perkecil gambar\n",
        "    horizontal_flip=True,  # Flip gambar secara horizontal\n",
        "    vertical_flip=True  # Flip gambar secara vertikal\n",
        ")\n",
        "\n",
        "# Menggunakan objek ImageDataGenerator untuk memuat dan augmentasi data pelatihan\n",
        "train_generator = train_datagen.flow_from_directory(\n",
        "    '/content/DATASET/TRAIN',\n",
        "    target_size=(224, 224),  # Ukuran gambar yang diharapkan\n",
        "    # Jumlah sampel dalam setiap batch\n",
        "    class_mode='categorical'  # Mode klasifikasi multikelas\n",
        ")\n"
      ]
    },
    {
      "cell_type": "markdown",
      "metadata": {
        "id": "XnI7RA69UuSC"
      },
      "source": [
        "**LAYER MODEL**"
      ]
    },
    {
      "cell_type": "code",
      "execution_count": 120,
      "metadata": {
        "colab": {
          "base_uri": "https://localhost:8080/"
        },
        "id": "Mp-BQOuW9BZP",
        "outputId": "c67ff644-c00a-4eb8-c282-8dcf68c1140e"
      },
      "outputs": [
        {
          "name": "stdout",
          "output_type": "stream",
          "text": [
            "Model: \"sequential_16\"\n",
            "_________________________________________________________________\n",
            " Layer (type)                Output Shape              Param #   \n",
            "=================================================================\n",
            " conv2d_64 (Conv2D)          (None, 222, 222, 32)      896       \n",
            "                                                                 \n",
            " max_pooling2d_64 (MaxPoolin  (None, 111, 111, 32)     0         \n",
            " g2D)                                                            \n",
            "                                                                 \n",
            " conv2d_65 (Conv2D)          (None, 109, 109, 64)      18496     \n",
            "                                                                 \n",
            " max_pooling2d_65 (MaxPoolin  (None, 54, 54, 64)       0         \n",
            " g2D)                                                            \n",
            "                                                                 \n",
            " conv2d_66 (Conv2D)          (None, 52, 52, 128)       73856     \n",
            "                                                                 \n",
            " max_pooling2d_66 (MaxPoolin  (None, 26, 26, 128)      0         \n",
            " g2D)                                                            \n",
            "                                                                 \n",
            " conv2d_67 (Conv2D)          (None, 24, 24, 256)       295168    \n",
            "                                                                 \n",
            " max_pooling2d_67 (MaxPoolin  (None, 12, 12, 256)      0         \n",
            " g2D)                                                            \n",
            "                                                                 \n",
            " dropout_16 (Dropout)        (None, 12, 12, 256)       0         \n",
            "                                                                 \n",
            " flatten_16 (Flatten)        (None, 36864)             0         \n",
            "                                                                 \n",
            " dense_48 (Dense)            (None, 512)               18874880  \n",
            "                                                                 \n",
            " dense_49 (Dense)            (None, 256)               131328    \n",
            "                                                                 \n",
            " dense_50 (Dense)            (None, 4)                 1028      \n",
            "                                                                 \n",
            "=================================================================\n",
            "Total params: 19,395,652\n",
            "Trainable params: 19,395,652\n",
            "Non-trainable params: 0\n",
            "_________________________________________________________________\n",
            "Model JSON telah disimpan.\n"
          ]
        }
      ],
      "source": [
        "import tensorflow as tf\n",
        "from tensorflow.keras import layers\n",
        "from tensorflow.keras.layers import Dense, Dropout\n",
        "# Membangun model CNN\n",
        "model = tf.keras.Sequential()\n",
        "\n",
        "# Layer konvolusi pertama\n",
        "model.add(layers.Conv2D(32, (3, 3), activation='relu', input_shape=(224, 224, 3)))\n",
        "model.add(layers.MaxPooling2D((2, 2)))\n",
        "\n",
        "\n",
        "\n",
        "\n",
        "# Layer konvolusi kedua\n",
        "model.add(layers.Conv2D(64, (3, 3), activation='relu'))\n",
        "model.add(layers.MaxPooling2D((2, 2)))\n",
        "\n",
        "\n",
        "# Layer konvolusi ketiga\n",
        "model.add(layers.Conv2D(128, (3, 3), activation='relu'))\n",
        "model.add(layers.MaxPooling2D((2, 2)))\n",
        "\n",
        "\n",
        "\n",
        "\n",
        "# Layer konvolusi keempat\n",
        "model.add(layers.Conv2D(256, (3, 3), activation='relu'))\n",
        "model.add(layers.MaxPooling2D((2, 2)))\n",
        "model.add(Dropout(0.25))\n",
        "\n",
        "\n",
        "# Layer flatten\n",
        "model.add(layers.Flatten())\n",
        "\n",
        "# Layer fully connected\n",
        "model.add(layers.Dense(512, activation='relu'))\n",
        "model.add(layers.Dense(256, activation='relu'))\n",
        "\n",
        "# Layer output\n",
        "model.add(layers.Dense(4, activation='softmax'))\n",
        "\n",
        "# Menampilkan ringkasan model\n",
        "model.summary()\n",
        "# Menyimpan model ke file JSON\n",
        "model_json = model.to_json()\n",
        "with open(\"model.json\", \"w\") as json_file:\n",
        "    json_file.write(model_json)\n",
        "\n",
        "print(\"Model JSON telah disimpan.\")"
      ]
    },
    {
      "cell_type": "markdown",
      "metadata": {
        "id": "JsRAGS-XUyQ_"
      },
      "source": [
        "**MODEL**"
      ]
    },
    {
      "cell_type": "code",
      "execution_count": 121,
      "metadata": {
        "colab": {
          "base_uri": "https://localhost:8080/"
        },
        "id": "nnsJN97g9pjC",
        "outputId": "5302e337-b4dc-4c62-8af6-367eebfddd9f"
      },
      "outputs": [
        {
          "name": "stdout",
          "output_type": "stream",
          "text": [
            "Found 69 images belonging to 4 classes.\n",
            "Epoch 1/100\n",
            "3/3 [==============================] - 20s 8s/step - loss: 2.8539 - accuracy: 0.4058 - val_loss: 1.3462 - val_accuracy: 0.2464\n",
            "Epoch 2/100\n",
            "3/3 [==============================] - 17s 7s/step - loss: 1.3602 - accuracy: 0.3333 - val_loss: 1.3197 - val_accuracy: 0.4638\n",
            "Epoch 3/100\n",
            "3/3 [==============================] - 18s 6s/step - loss: 1.2997 - accuracy: 0.4638 - val_loss: 1.2182 - val_accuracy: 0.4638\n",
            "Epoch 4/100\n",
            "3/3 [==============================] - 17s 8s/step - loss: 1.2587 - accuracy: 0.4638 - val_loss: 1.2054 - val_accuracy: 0.4638\n",
            "Epoch 5/100\n",
            "3/3 [==============================] - 15s 5s/step - loss: 1.2152 - accuracy: 0.4638 - val_loss: 1.2175 - val_accuracy: 0.4638\n",
            "Epoch 6/100\n",
            "3/3 [==============================] - 16s 5s/step - loss: 1.2278 - accuracy: 0.4493 - val_loss: 1.1899 - val_accuracy: 0.4638\n",
            "Epoch 7/100\n",
            "3/3 [==============================] - 17s 6s/step - loss: 1.1921 - accuracy: 0.4638 - val_loss: 1.1832 - val_accuracy: 0.4638\n",
            "Epoch 8/100\n",
            "3/3 [==============================] - 15s 4s/step - loss: 1.1507 - accuracy: 0.4638 - val_loss: 1.1382 - val_accuracy: 0.4638\n",
            "Epoch 9/100\n",
            "3/3 [==============================] - 15s 7s/step - loss: 1.1292 - accuracy: 0.4638 - val_loss: 1.1313 - val_accuracy: 0.4638\n",
            "Epoch 10/100\n",
            "3/3 [==============================] - 17s 8s/step - loss: 1.1064 - accuracy: 0.4493 - val_loss: 1.0843 - val_accuracy: 0.5217\n",
            "Epoch 11/100\n",
            "3/3 [==============================] - 16s 5s/step - loss: 1.1059 - accuracy: 0.5217 - val_loss: 1.0864 - val_accuracy: 0.5217\n",
            "Epoch 12/100\n",
            "3/3 [==============================] - 17s 8s/step - loss: 1.0683 - accuracy: 0.4928 - val_loss: 0.9995 - val_accuracy: 0.5362\n",
            "Epoch 13/100\n",
            "3/3 [==============================] - 16s 7s/step - loss: 0.9717 - accuracy: 0.5507 - val_loss: 0.9589 - val_accuracy: 0.5217\n",
            "Epoch 14/100\n",
            "3/3 [==============================] - 18s 6s/step - loss: 1.0011 - accuracy: 0.4928 - val_loss: 0.9216 - val_accuracy: 0.5797\n",
            "Epoch 15/100\n",
            "3/3 [==============================] - 18s 7s/step - loss: 1.2140 - accuracy: 0.3623 - val_loss: 1.1459 - val_accuracy: 0.4203\n",
            "Epoch 16/100\n",
            "3/3 [==============================] - 18s 6s/step - loss: 1.0989 - accuracy: 0.4493 - val_loss: 1.1727 - val_accuracy: 0.4638\n",
            "Epoch 17/100\n",
            "3/3 [==============================] - 17s 5s/step - loss: 1.1616 - accuracy: 0.4348 - val_loss: 1.0750 - val_accuracy: 0.5072\n",
            "Epoch 18/100\n",
            "3/3 [==============================] - 18s 6s/step - loss: 1.0312 - accuracy: 0.4928 - val_loss: 0.9915 - val_accuracy: 0.5797\n",
            "Epoch 19/100\n",
            "3/3 [==============================] - 15s 7s/step - loss: 1.0069 - accuracy: 0.5652 - val_loss: 0.9367 - val_accuracy: 0.5652\n",
            "Epoch 20/100\n",
            "3/3 [==============================] - 18s 8s/step - loss: 0.9694 - accuracy: 0.5797 - val_loss: 0.9257 - val_accuracy: 0.5942\n",
            "Epoch 21/100\n",
            "3/3 [==============================] - 18s 5s/step - loss: 0.9573 - accuracy: 0.5942 - val_loss: 0.8953 - val_accuracy: 0.5942\n",
            "Epoch 22/100\n",
            "3/3 [==============================] - 18s 6s/step - loss: 0.9542 - accuracy: 0.5507 - val_loss: 0.9557 - val_accuracy: 0.5362\n",
            "Epoch 23/100\n",
            "3/3 [==============================] - 17s 7s/step - loss: 1.0079 - accuracy: 0.5507 - val_loss: 0.8846 - val_accuracy: 0.6087\n",
            "Epoch 24/100\n",
            "3/3 [==============================] - 16s 7s/step - loss: 0.9114 - accuracy: 0.7101 - val_loss: 0.8659 - val_accuracy: 0.6812\n",
            "Epoch 25/100\n",
            "3/3 [==============================] - 18s 8s/step - loss: 0.9657 - accuracy: 0.6232 - val_loss: 0.8293 - val_accuracy: 0.6667\n",
            "Epoch 26/100\n",
            "3/3 [==============================] - 18s 6s/step - loss: 0.8553 - accuracy: 0.6667 - val_loss: 0.8786 - val_accuracy: 0.6377\n",
            "Epoch 27/100\n",
            "3/3 [==============================] - 18s 8s/step - loss: 0.8582 - accuracy: 0.5797 - val_loss: 0.9144 - val_accuracy: 0.5797\n",
            "Epoch 28/100\n",
            "3/3 [==============================] - 18s 6s/step - loss: 0.9578 - accuracy: 0.5652 - val_loss: 0.8460 - val_accuracy: 0.6957\n",
            "Epoch 29/100\n",
            "3/3 [==============================] - 18s 8s/step - loss: 0.8758 - accuracy: 0.6522 - val_loss: 0.8743 - val_accuracy: 0.6522\n",
            "Epoch 30/100\n",
            "3/3 [==============================] - 16s 5s/step - loss: 0.8706 - accuracy: 0.6232 - val_loss: 0.7752 - val_accuracy: 0.7101\n",
            "Epoch 31/100\n",
            "3/3 [==============================] - 17s 5s/step - loss: 0.7969 - accuracy: 0.6957 - val_loss: 0.7474 - val_accuracy: 0.7101\n",
            "Epoch 32/100\n",
            "3/3 [==============================] - 18s 6s/step - loss: 0.7824 - accuracy: 0.6812 - val_loss: 0.7680 - val_accuracy: 0.6522\n",
            "Epoch 33/100\n",
            "3/3 [==============================] - 17s 5s/step - loss: 0.8902 - accuracy: 0.5797 - val_loss: 0.8696 - val_accuracy: 0.6377\n",
            "Epoch 34/100\n",
            "3/3 [==============================] - 17s 7s/step - loss: 0.9870 - accuracy: 0.6232 - val_loss: 0.9008 - val_accuracy: 0.6087\n",
            "Epoch 35/100\n",
            "3/3 [==============================] - 18s 8s/step - loss: 0.9525 - accuracy: 0.5507 - val_loss: 0.8752 - val_accuracy: 0.6087\n",
            "Epoch 36/100\n",
            "3/3 [==============================] - 18s 5s/step - loss: 0.9623 - accuracy: 0.5362 - val_loss: 0.8554 - val_accuracy: 0.4783\n",
            "Epoch 37/100\n",
            "3/3 [==============================] - 18s 6s/step - loss: 0.8762 - accuracy: 0.5652 - val_loss: 0.7879 - val_accuracy: 0.5797\n",
            "Epoch 38/100\n",
            "3/3 [==============================] - 18s 5s/step - loss: 0.8558 - accuracy: 0.5362 - val_loss: 0.7541 - val_accuracy: 0.6667\n",
            "Epoch 39/100\n",
            "3/3 [==============================] - 16s 7s/step - loss: 0.8271 - accuracy: 0.6667 - val_loss: 0.7246 - val_accuracy: 0.6812\n",
            "Epoch 40/100\n",
            "3/3 [==============================] - 16s 7s/step - loss: 0.7329 - accuracy: 0.7246 - val_loss: 0.6851 - val_accuracy: 0.7246\n",
            "Epoch 41/100\n",
            "3/3 [==============================] - 18s 8s/step - loss: 0.7294 - accuracy: 0.7101 - val_loss: 0.6555 - val_accuracy: 0.7391\n",
            "Epoch 42/100\n",
            "3/3 [==============================] - 18s 6s/step - loss: 0.6703 - accuracy: 0.6957 - val_loss: 0.6001 - val_accuracy: 0.7536\n",
            "Epoch 43/100\n",
            "3/3 [==============================] - 16s 7s/step - loss: 0.6829 - accuracy: 0.6667 - val_loss: 0.5790 - val_accuracy: 0.7246\n",
            "Epoch 44/100\n",
            "3/3 [==============================] - 16s 7s/step - loss: 0.5626 - accuracy: 0.7391 - val_loss: 0.5584 - val_accuracy: 0.7826\n",
            "Epoch 45/100\n",
            "3/3 [==============================] - 17s 7s/step - loss: 0.6665 - accuracy: 0.7101 - val_loss: 0.5279 - val_accuracy: 0.7826\n",
            "Epoch 46/100\n",
            "3/3 [==============================] - 17s 8s/step - loss: 0.5947 - accuracy: 0.7246 - val_loss: 0.5120 - val_accuracy: 0.7681\n",
            "Epoch 47/100\n",
            "3/3 [==============================] - 16s 7s/step - loss: 0.6431 - accuracy: 0.7681 - val_loss: 0.5091 - val_accuracy: 0.8406\n",
            "Epoch 48/100\n",
            "3/3 [==============================] - 16s 7s/step - loss: 0.5800 - accuracy: 0.7826 - val_loss: 0.5186 - val_accuracy: 0.8116\n",
            "Epoch 49/100\n",
            "3/3 [==============================] - 16s 5s/step - loss: 0.6063 - accuracy: 0.8116 - val_loss: 0.4454 - val_accuracy: 0.7971\n",
            "Epoch 50/100\n",
            "3/3 [==============================] - 18s 5s/step - loss: 0.5926 - accuracy: 0.8116 - val_loss: 0.4220 - val_accuracy: 0.8696\n",
            "Epoch 51/100\n",
            "3/3 [==============================] - 18s 8s/step - loss: 0.5655 - accuracy: 0.7536 - val_loss: 0.3698 - val_accuracy: 0.8406\n",
            "Epoch 52/100\n",
            "3/3 [==============================] - 18s 6s/step - loss: 0.5054 - accuracy: 0.7971 - val_loss: 0.3355 - val_accuracy: 0.8986\n",
            "Epoch 53/100\n",
            "3/3 [==============================] - 18s 8s/step - loss: 0.5540 - accuracy: 0.7391 - val_loss: 0.4199 - val_accuracy: 0.8261\n",
            "Epoch 54/100\n",
            "3/3 [==============================] - 16s 5s/step - loss: 0.5249 - accuracy: 0.7826 - val_loss: 0.4364 - val_accuracy: 0.8261\n",
            "Epoch 55/100\n",
            "3/3 [==============================] - 18s 8s/step - loss: 0.6954 - accuracy: 0.7101 - val_loss: 0.5408 - val_accuracy: 0.7536\n",
            "Epoch 56/100\n",
            "3/3 [==============================] - 18s 6s/step - loss: 0.7318 - accuracy: 0.7536 - val_loss: 0.5587 - val_accuracy: 0.8261\n",
            "Epoch 57/100\n",
            "3/3 [==============================] - 18s 8s/step - loss: 0.5312 - accuracy: 0.7826 - val_loss: 0.4808 - val_accuracy: 0.8406\n",
            "Epoch 58/100\n",
            "3/3 [==============================] - 18s 8s/step - loss: 0.5264 - accuracy: 0.7971 - val_loss: 0.4934 - val_accuracy: 0.8551\n",
            "Epoch 59/100\n",
            "3/3 [==============================] - 16s 5s/step - loss: 0.5929 - accuracy: 0.7391 - val_loss: 0.4243 - val_accuracy: 0.8116\n",
            "Epoch 60/100\n",
            "3/3 [==============================] - 16s 5s/step - loss: 0.6002 - accuracy: 0.7246 - val_loss: 0.6310 - val_accuracy: 0.7391\n",
            "Epoch 61/100\n",
            "3/3 [==============================] - 18s 6s/step - loss: 0.8404 - accuracy: 0.6957 - val_loss: 0.4095 - val_accuracy: 0.8696\n",
            "Epoch 62/100\n",
            "3/3 [==============================] - 18s 6s/step - loss: 0.5846 - accuracy: 0.8551 - val_loss: 0.3446 - val_accuracy: 0.8841\n",
            "Epoch 63/100\n",
            "3/3 [==============================] - 18s 8s/step - loss: 0.5504 - accuracy: 0.8406 - val_loss: 0.4257 - val_accuracy: 0.7971\n",
            "Epoch 64/100\n",
            "3/3 [==============================] - 16s 5s/step - loss: 0.4851 - accuracy: 0.8696 - val_loss: 0.5110 - val_accuracy: 0.8116\n",
            "Epoch 65/100\n",
            "3/3 [==============================] - 16s 5s/step - loss: 0.7373 - accuracy: 0.7101 - val_loss: 0.5302 - val_accuracy: 0.8261\n",
            "Epoch 66/100\n",
            "3/3 [==============================] - 18s 6s/step - loss: 0.7127 - accuracy: 0.7246 - val_loss: 0.5409 - val_accuracy: 0.8116\n",
            "Epoch 67/100\n",
            "3/3 [==============================] - 18s 6s/step - loss: 0.5943 - accuracy: 0.7826 - val_loss: 0.4035 - val_accuracy: 0.8986\n",
            "Epoch 68/100\n",
            "3/3 [==============================] - 18s 8s/step - loss: 0.4476 - accuracy: 0.8986 - val_loss: 0.3694 - val_accuracy: 0.8841\n",
            "Epoch 69/100\n",
            "3/3 [==============================] - 18s 6s/step - loss: 0.3989 - accuracy: 0.8841 - val_loss: 0.2855 - val_accuracy: 0.8841\n",
            "Epoch 70/100\n",
            "3/3 [==============================] - 17s 8s/step - loss: 0.3863 - accuracy: 0.8551 - val_loss: 0.3134 - val_accuracy: 0.8841\n",
            "Epoch 71/100\n",
            "3/3 [==============================] - 18s 5s/step - loss: 0.5310 - accuracy: 0.8406 - val_loss: 0.2888 - val_accuracy: 0.8841\n",
            "Epoch 72/100\n",
            "3/3 [==============================] - 18s 6s/step - loss: 0.5324 - accuracy: 0.8116 - val_loss: 0.2953 - val_accuracy: 0.8986\n",
            "Epoch 73/100\n",
            "3/3 [==============================] - 18s 8s/step - loss: 0.4946 - accuracy: 0.7826 - val_loss: 0.3461 - val_accuracy: 0.8261\n",
            "Epoch 74/100\n",
            "3/3 [==============================] - 18s 8s/step - loss: 0.3761 - accuracy: 0.8986 - val_loss: 0.2817 - val_accuracy: 0.9420\n",
            "Epoch 75/100\n",
            "3/3 [==============================] - 18s 5s/step - loss: 0.3757 - accuracy: 0.8696 - val_loss: 0.2316 - val_accuracy: 0.9420\n",
            "Epoch 76/100\n",
            "3/3 [==============================] - 16s 5s/step - loss: 0.4794 - accuracy: 0.8261 - val_loss: 0.2203 - val_accuracy: 0.9565\n",
            "Epoch 77/100\n",
            "3/3 [==============================] - ETA: 0s - loss: 0.3164 - accuracy: 0.9275\n",
            "Training SESUAI NILAI ACC DAN LOSS YANG DICARI \n",
            "3/3 [==============================] - 18s 8s/step - loss: 0.3164 - accuracy: 0.9275 - val_loss: 0.2181 - val_accuracy: 0.9565\n"
          ]
        }
      ],
      "source": [
        "from tensorflow.keras.optimizers import Adam\n",
        "import matplotlib.pyplot as plt\n",
        "from keras.callbacks import Callback\n",
        "\n",
        "image_width = 224\n",
        "image_height = 224\n",
        "batch_size= 64 # Jumlah sampel dalam setiap batch\n",
        "\n",
        "\n",
        "validation_datagen = ImageDataGenerator(rescale=1./255)\n",
        "# Definisikan validation data generator\n",
        "val_generator = validation_datagen.flow_from_directory(\n",
        "    validation_dir,\n",
        "    target_size=(image_width, image_height),\n",
        "    batch_size=batch_size,\n",
        "    class_mode='categorical')\n",
        "\n",
        "# Definisikan optimizer kompleks\n",
        "optimizer = Adam(\n",
        "    learning_rate=0.001,\n",
        "    beta_1=0.9,\n",
        "    beta_2=0.999,\n",
        "    epsilon=1e-07,\n",
        "   \n",
        ")\n",
        "\n",
        "\n",
        "#Callback\n",
        "class StopTrainingCallback(Callback):\n",
        "    def on_epoch_end(self, epoch, logs={}):\n",
        "        if logs.get('accuracy') >= 0.9 and logs.get('val_accuracy') >= 0.9:\n",
        "            print(\"\\nTraining SESUAI NILAI ACC DAN LOSS YANG DICARI \")\n",
        "            self.model.stop_training = True\n",
        "\n",
        "\n",
        "# Mengompilasi model dengan optimizer kompleks\n",
        "model.compile(\n",
        "    optimizer=optimizer,\n",
        "    loss='categorical_crossentropy',\n",
        "    metrics=['accuracy']\n",
        ")\n",
        "\n",
        "# Melatih model dan mendapatkan objek history\n",
        "history = model.fit(train_generator, steps_per_epoch=len(train_generator), epochs=100, validation_data=val_generator, validation_steps=len(val_generator), callbacks=[StopTrainingCallback()])\n",
        "\n",
        "\n",
        "\n",
        "\n",
        "\n",
        "\n",
        "\n"
      ]
    },
    {
      "cell_type": "markdown",
      "metadata": {
        "id": "DmQhLdhZU2Nn"
      },
      "source": [
        "**PLOT ACC DAN LOSS**"
      ]
    },
    {
      "cell_type": "code",
      "execution_count": 122,
      "metadata": {
        "colab": {
          "base_uri": "https://localhost:8080/",
          "height": 927
        },
        "id": "x0rLwmLM-9LS",
        "outputId": "3c3093f9-4a1a-4575-add7-787ae28a827e"
      },
      "outputs": [
        {
          "data": {
            "image/png": "[encoded data removed]",
            "text/plain": [
              "<Figure size 640x480 with 1 Axes>"
            ]
          },
          "metadata": {},
          "output_type": "display_data"
        },
        {
          "data": {
            "image/png": "[encoded data removed]",
            "text/plain": [
              "<Figure size 640x480 with 1 Axes>"
            ]
          },
          "metadata": {},
          "output_type": "display_data"
        }
      ],
      "source": [
        "# Membuat plot loss\n",
        "plt.plot(history.history['loss'], label='Training Loss')\n",
        "plt.plot(history.history['val_loss'], label='Validation Loss')\n",
        "plt.title('Loss')\n",
        "plt.xlabel('Epochs')\n",
        "plt.ylabel('Loss')\n",
        "plt.legend()\n",
        "plt.show()\n",
        "\n",
        "# Membuat plot accuracy\n",
        "plt.plot(history.history['accuracy'], label='Training Accuracy')\n",
        "plt.plot(history.history['val_accuracy'], label='Validation Accuracy')\n",
        "plt.title('Accuracy')\n",
        "plt.xlabel('Epochs')\n",
        "plt.ylabel('Accuracy')\n",
        "plt.legend()\n",
        "plt.show()\n"
      ]
    },
    {
      "cell_type": "markdown",
      "metadata": {
        "id": "-3gy2gKjYksn"
      },
      "source": [
        "**==========================SAVE MODEL==========================**"
      ]
    },
    {
      "cell_type": "code",
      "execution_count": 123,
      "metadata": {
        "id": "mlVMXUjA-jlD"
      },
      "outputs": [],
      "source": [
        "from tensorflow.keras.models import save_model\n",
        "\n",
        "def save_model_to_file(model, file_path):\n",
        "    \"\"\"\n",
        "    Menyimpan model ke file.\n",
        "    \n",
        "    Args:\n",
        "        model (tf.keras.Model): Model yang akan disimpan.\n",
        "        file_path (str): Path file untuk menyimpan model.\n",
        "    \"\"\"\n",
        "    save_model(model, file_path)\n",
        "    print(f\"Model berhasil disimpan ke file: {file_path}\")\n"
      ]
    },
    {
      "cell_type": "code",
      "execution_count": 124,
      "metadata": {
        "colab": {
          "base_uri": "https://localhost:8080/"
        },
        "id": "ZlpSk8i0pUOt",
        "outputId": "05747826-0603-4af6-9d50-0f7ac0564bde"
      },
      "outputs": [
        {
          "name": "stdout",
          "output_type": "stream",
          "text": [
            "Model berhasil disimpan ke file: path/to/model.h5\n"
          ]
        }
      ],
      "source": [
        "# Simpan model ke file\n",
        "save_model_to_file(model, 'path/to/model.h5')"
      ]
    },
    {
      "cell_type": "markdown",
      "metadata": {
        "id": "sK6WiCwWYud-"
      },
      "source": [
        "**==========================PREDIKSI MODEL ==========================**"
      ]
    },
    {
      "cell_type": "code",
      "execution_count": 125,
      "metadata": {
        "colab": {
          "base_uri": "https://localhost:8080/"
        },
        "id": "4Wq23nJKLKm4",
        "outputId": "1dc29b0e-22c8-49cb-9ffa-0e1bce2f2ebf"
      },
      "outputs": [
        {
          "name": "stdout",
          "output_type": "stream",
          "text": [
            "1/1 [==============================] - 0s 234ms/step\n",
            "Hasil Prediksi Kemungkinan : REDSPOT\n",
            "Dalam %: 99.00640845298767\n"
          ]
        }
      ],
      "source": [
        "from tensorflow.keras.models import load_model\n",
        "from tensorflow.keras.preprocessing import image\n",
        "import numpy as np\n",
        "\n",
        "# Load the trained model\n",
        "model = load_model('/content/path/to/model.h5')\n",
        "\n",
        "\n",
        "def preprocess_image(image_path, target_size):\n",
        "    img = image.load_img(image_path, target_size=target_size)\n",
        "    img = image.img_to_array(img)\n",
        "    img = np.expand_dims(img, axis=0)\n",
        "    img = img / 255.0  # Normalize gamabr\n",
        "    return img\n",
        "\n",
        "\n",
        "def predict_image(image_path, target_size):\n",
        "    img = preprocess_image(image_path, target_size)\n",
        "    pred = model.predict(img)\n",
        "    class_indices = train_generator.class_indices\n",
        "    predicted_class = list(class_indices.keys())[np.argmax(pred)]\n",
        "    confidence = np.max(pred) * 100\n",
        "    return predicted_class, confidence\n",
        "\n",
        "\n",
        "image_path = '/content/download.jpg'\n",
        "target_size = (224, 224)  #target\n",
        "\n",
        "predicted_class, confidence = predict_image(image_path, target_size)\n",
        "print('Hasil Prediksi Kemungkinan :', predicted_class)\n",
        "print('Dalam %:', confidence)\n"
      ]
    }
  ],
  "metadata": {
    "colab": {
      "gpuType": "T4",
      "provenance": []
    },
    "kernelspec": {
      "display_name": "Python 3",
      "name": "python3"
    },
    "language_info": {
      "name": "python"
    }
  },
  "nbformat": 4,
  "nbformat_minor": 0
}
